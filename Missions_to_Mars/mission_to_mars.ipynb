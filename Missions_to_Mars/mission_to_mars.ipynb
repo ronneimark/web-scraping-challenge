{
 "cells": [
  {
   "cell_type": "code",
   "execution_count": 1,
   "metadata": {
    "ExecuteTime": {
     "end_time": "2019-11-27T14:42:03.696559Z",
     "start_time": "2019-11-27T14:42:02.137279Z"
    }
   },
   "outputs": [],
   "source": [
    "from splinter import Browser\n",
    "from bs4 import BeautifulSoup\n",
    "import pandas as pd"
   ]
  },
  {
   "cell_type": "markdown",
   "metadata": {},
   "source": [
    "## Mars News"
   ]
  },
  {
   "cell_type": "code",
   "execution_count": 2,
   "metadata": {
    "ExecuteTime": {
     "end_time": "2019-11-25T06:49:04.133000Z",
     "start_time": "2019-11-25T06:49:00.464421Z"
    }
   },
   "outputs": [],
   "source": [
    "#Use splinter-browser to open NASA \n",
    "\n",
    "executable_path = {'executable_path': 'chromedriver.exe'}\n",
    "browser = Browser('chrome', **executable_path, headless=False)\n",
    "url = 'https://mars.nasa.gov/news/?page=0&per_page=40&order=publish_date+desc%2Ccreated_at+desc&search=&category=19%2C165%2C184%2C204&blank_scope=Latest'\n",
    "browser.visit(url)"
   ]
  },
  {
   "cell_type": "code",
   "execution_count": 3,
   "metadata": {},
   "outputs": [
    {
     "data": {
      "text/plain": [
       "('A Mars Dust Tower Stands Out Dust storms are common on Mars. But every decade or so, something unpredictable happens: a series of runaway storms break out, covering the entire planet in a dusty haze.',\n",
       " 'November 26, 2019',\n",
       " 'Global Storms on Mars Launch Dust Towers Into the Sky',\n",
       " 'http://mars.nasa.gov/news/8558/global-storms-on-mars-launch-dust-towers-into-the-sky/')"
      ]
     },
     "execution_count": 3,
     "metadata": {},
     "output_type": "execute_result"
    }
   ],
   "source": [
    "html = browser.html\n",
    "soup = BeautifulSoup(html, 'lxml')\n",
    "news_p=soup.find('div',class_='article_teaser_body').text\n",
    "news_date=soup.find('div', class_='list_date').text\n",
    "news_title = soup.find('div', class_='content_title').a.text.strip()\n",
    "news_link= 'http://mars.nasa.gov' + soup.find('div', class_='content_title').a.get('href')\n",
    "\n",
    "news_p, news_date, news_title, news_link\n",
    "\n"
   ]
  },
  {
   "cell_type": "code",
   "execution_count": 4,
   "metadata": {
    "ExecuteTime": {
     "end_time": "2019-11-25T06:49:16.491121Z",
     "start_time": "2019-11-25T06:49:10.281633Z"
    }
   },
   "outputs": [
    {
     "name": "stdout",
     "output_type": "stream",
     "text": [
      "DONE\n"
     ]
    }
   ],
   "source": [
    "try:\n",
    "\n",
    "    html = browser.html\n",
    "    soup = BeautifulSoup(html, 'lxml')\n",
    "\n",
    "    articles = soup.find_all('div', class_='content_title')\n",
    "    news_ps=soup.find_all('div',class_='article_teaser_body')\n",
    "    dates=soup.find_all('div', class_='list_date')\n",
    "\n",
    "    y=0\n",
    "\n",
    "    article_list=[]\n",
    "\n",
    "    for article in articles:\n",
    "        item_dict = {}\n",
    "        item_dict['date']=dates[y].text\n",
    "        item_dict['news_title'] = article.a.text.strip()\n",
    "        item_dict['news_p']=news_ps[y].text\n",
    "        linktext=article.a.get('href')\n",
    "        item_dict['link']='http://mars.nasa.gov' + linktext\n",
    "        article_list.append(item_dict)\n",
    "        y+=1\n",
    "    \n",
    "except:\n",
    "    print('DONE')\n",
    "        "
   ]
  },
  {
   "cell_type": "code",
   "execution_count": 5,
   "metadata": {
    "ExecuteTime": {
     "end_time": "2019-11-25T06:49:19.757489Z",
     "start_time": "2019-11-25T06:49:19.752502Z"
    }
   },
   "outputs": [
    {
     "data": {
      "text/plain": [
       "40"
      ]
     },
     "execution_count": 5,
     "metadata": {},
     "output_type": "execute_result"
    }
   ],
   "source": [
    "len(article_list)"
   ]
  },
  {
   "cell_type": "code",
   "execution_count": 6,
   "metadata": {
    "ExecuteTime": {
     "end_time": "2019-11-25T06:49:50.963170Z",
     "start_time": "2019-11-25T06:49:50.953195Z"
    }
   },
   "outputs": [
    {
     "data": {
      "text/html": [
       "<div>\n",
       "<style scoped>\n",
       "    .dataframe tbody tr th:only-of-type {\n",
       "        vertical-align: middle;\n",
       "    }\n",
       "\n",
       "    .dataframe tbody tr th {\n",
       "        vertical-align: top;\n",
       "    }\n",
       "\n",
       "    .dataframe thead th {\n",
       "        text-align: right;\n",
       "    }\n",
       "</style>\n",
       "<table border=\"1\" class=\"dataframe\">\n",
       "  <thead>\n",
       "    <tr style=\"text-align: right;\">\n",
       "      <th></th>\n",
       "      <th>date</th>\n",
       "      <th>link</th>\n",
       "      <th>news_p</th>\n",
       "      <th>news_title</th>\n",
       "    </tr>\n",
       "  </thead>\n",
       "  <tbody>\n",
       "    <tr>\n",
       "      <th>0</th>\n",
       "      <td>November 26, 2019</td>\n",
       "      <td>http://mars.nasa.gov/news/8558/global-storms-o...</td>\n",
       "      <td>A Mars Dust Tower Stands Out Dust storms are c...</td>\n",
       "      <td>Global Storms on Mars Launch Dust Towers Into ...</td>\n",
       "    </tr>\n",
       "    <tr>\n",
       "      <th>1</th>\n",
       "      <td>November 21, 2019</td>\n",
       "      <td>http://mars.nasa.gov/news/8556/nasa-updates-ma...</td>\n",
       "      <td>NASA and the Department of Energy have complet...</td>\n",
       "      <td>NASA Updates Mars 2020 Mission Environmental R...</td>\n",
       "    </tr>\n",
       "    <tr>\n",
       "      <th>2</th>\n",
       "      <td>November 20, 2019</td>\n",
       "      <td>http://mars.nasa.gov/news/8554/two-of-a-space-...</td>\n",
       "      <td>Apollo 12 and the upcoming Mars 2020 mission m...</td>\n",
       "      <td>Two of a Space Kind: Apollo 12 and Mars 2020</td>\n",
       "    </tr>\n",
       "    <tr>\n",
       "      <th>3</th>\n",
       "      <td>November 15, 2019</td>\n",
       "      <td>http://mars.nasa.gov/news/8551/mars-scientists...</td>\n",
       "      <td>Teams with NASA's Mars 2020 and ESA's ExoMars ...</td>\n",
       "      <td>Mars Scientists Investigate Ancient Life in Au...</td>\n",
       "    </tr>\n",
       "    <tr>\n",
       "      <th>4</th>\n",
       "      <td>November 12, 2019</td>\n",
       "      <td>http://mars.nasa.gov/news/8549/nasas-mars-2020...</td>\n",
       "      <td>A new paper identifies a ring of minerals at t...</td>\n",
       "      <td>NASA's Mars 2020 Will Hunt for Microscopic Fos...</td>\n",
       "    </tr>\n",
       "  </tbody>\n",
       "</table>\n",
       "</div>"
      ],
      "text/plain": [
       "                date                                               link  \\\n",
       "0  November 26, 2019  http://mars.nasa.gov/news/8558/global-storms-o...   \n",
       "1  November 21, 2019  http://mars.nasa.gov/news/8556/nasa-updates-ma...   \n",
       "2  November 20, 2019  http://mars.nasa.gov/news/8554/two-of-a-space-...   \n",
       "3  November 15, 2019  http://mars.nasa.gov/news/8551/mars-scientists...   \n",
       "4  November 12, 2019  http://mars.nasa.gov/news/8549/nasas-mars-2020...   \n",
       "\n",
       "                                              news_p  \\\n",
       "0  A Mars Dust Tower Stands Out Dust storms are c...   \n",
       "1  NASA and the Department of Energy have complet...   \n",
       "2  Apollo 12 and the upcoming Mars 2020 mission m...   \n",
       "3  Teams with NASA's Mars 2020 and ESA's ExoMars ...   \n",
       "4  A new paper identifies a ring of minerals at t...   \n",
       "\n",
       "                                          news_title  \n",
       "0  Global Storms on Mars Launch Dust Towers Into ...  \n",
       "1  NASA Updates Mars 2020 Mission Environmental R...  \n",
       "2       Two of a Space Kind: Apollo 12 and Mars 2020  \n",
       "3  Mars Scientists Investigate Ancient Life in Au...  \n",
       "4  NASA's Mars 2020 Will Hunt for Microscopic Fos...  "
      ]
     },
     "execution_count": 6,
     "metadata": {},
     "output_type": "execute_result"
    }
   ],
   "source": [
    "article_df = pd.DataFrame(article_list)\n",
    "article_df.head()"
   ]
  },
  {
   "cell_type": "code",
   "execution_count": 7,
   "metadata": {},
   "outputs": [],
   "source": [
    "news_title=article_df.iloc[0,3]\n",
    "news_p=article_df.iloc[0,2]\n",
    "news_date=article_df.iloc[0,0]\n",
    "news_link=article_df.iloc[0,1]"
   ]
  },
  {
   "cell_type": "markdown",
   "metadata": {},
   "source": [
    "## Mars Image"
   ]
  },
  {
   "cell_type": "code",
   "execution_count": 8,
   "metadata": {
    "ExecuteTime": {
     "end_time": "2019-11-25T06:47:27.496067Z",
     "start_time": "2019-11-25T06:47:21.798665Z"
    }
   },
   "outputs": [
    {
     "data": {
      "text/plain": [
       "'http://jpl.nasa.gov/spaceimages/images/mediumsize/PIA16837_ip.jpg'"
      ]
     },
     "execution_count": 8,
     "metadata": {},
     "output_type": "execute_result"
    }
   ],
   "source": [
    "\n",
    "url = 'https://www.jpl.nasa.gov/spaceimages/?search=&category=Mars'\n",
    "browser.visit(url) \n",
    "\n",
    "html = browser.html\n",
    "soup = BeautifulSoup(html, 'lxml')\n",
    "\n",
    "\n",
    "link=soup.find('article').a.get('data-fancybox-href')\n",
    "featured_image_url = 'http://jpl.nasa.gov' + link\n",
    "\n",
    "featured_image_url"
   ]
  },
  {
   "cell_type": "markdown",
   "metadata": {},
   "source": [
    "## Mars Weather"
   ]
  },
  {
   "cell_type": "code",
   "execution_count": 21,
   "metadata": {
    "ExecuteTime": {
     "end_time": "2019-11-25T06:47:31.468686Z",
     "start_time": "2019-11-25T06:47:27.498066Z"
    }
   },
   "outputs": [
    {
     "data": {
      "text/plain": [
       "'InSight sol 354 (2019-11-24) low -99.7ºC (-147.5ºF) high -22.6ºC (-8.6ºF)\\nwinds from the SSW at 4.8 m/s (10.8 mph) gusting to 23.9 m/s (53.5 mph)\\npressure at 6.80 hPapic.twitter.com/QojEKyxlhp'"
      ]
     },
     "execution_count": 21,
     "metadata": {},
     "output_type": "execute_result"
    }
   ],
   "source": [
    "url = 'https://twitter.com/marswxreport?lang=en'\n",
    "browser.visit(url)\n",
    "\n",
    "html = browser.html\n",
    "soup = BeautifulSoup(html, 'lxml')\n",
    "\n",
    "#mars_weather=soup.find_all('p', {\"class\":['TweetTextSize', 'TweetTextSize--normal', 'js-tweet-text', 'tweet-text']})[0].text\n",
    "mars_weather=soup.find('p', class_='TweetTextSize').text\n",
    "\n",
    "mars_weather"
   ]
  },
  {
   "cell_type": "markdown",
   "metadata": {},
   "source": [
    "## Mars Facts"
   ]
  },
  {
   "cell_type": "code",
   "execution_count": 2,
   "metadata": {
    "ExecuteTime": {
     "end_time": "2019-11-27T14:42:25.968956Z",
     "start_time": "2019-11-27T14:42:24.939647Z"
    }
   },
   "outputs": [
    {
     "data": {
      "text/html": [
       "<div>\n",
       "<style scoped>\n",
       "    .dataframe tbody tr th:only-of-type {\n",
       "        vertical-align: middle;\n",
       "    }\n",
       "\n",
       "    .dataframe tbody tr th {\n",
       "        vertical-align: top;\n",
       "    }\n",
       "\n",
       "    .dataframe thead th {\n",
       "        text-align: right;\n",
       "    }\n",
       "</style>\n",
       "<table border=\"1\" class=\"dataframe\">\n",
       "  <thead>\n",
       "    <tr style=\"text-align: right;\">\n",
       "      <th></th>\n",
       "      <th>0</th>\n",
       "      <th>1</th>\n",
       "    </tr>\n",
       "  </thead>\n",
       "  <tbody>\n",
       "    <tr>\n",
       "      <th>0</th>\n",
       "      <td>Equatorial Diameter:</td>\n",
       "      <td>6,792 km</td>\n",
       "    </tr>\n",
       "    <tr>\n",
       "      <th>1</th>\n",
       "      <td>Polar Diameter:</td>\n",
       "      <td>6,752 km</td>\n",
       "    </tr>\n",
       "    <tr>\n",
       "      <th>2</th>\n",
       "      <td>Mass:</td>\n",
       "      <td>6.39 × 10^23 kg (0.11 Earths)</td>\n",
       "    </tr>\n",
       "    <tr>\n",
       "      <th>3</th>\n",
       "      <td>Moons:</td>\n",
       "      <td>2 (Phobos &amp; Deimos)</td>\n",
       "    </tr>\n",
       "    <tr>\n",
       "      <th>4</th>\n",
       "      <td>Orbit Distance:</td>\n",
       "      <td>227,943,824 km (1.38 AU)</td>\n",
       "    </tr>\n",
       "    <tr>\n",
       "      <th>5</th>\n",
       "      <td>Orbit Period:</td>\n",
       "      <td>687 days (1.9 years)</td>\n",
       "    </tr>\n",
       "    <tr>\n",
       "      <th>6</th>\n",
       "      <td>Surface Temperature:</td>\n",
       "      <td>-87 to -5 °C</td>\n",
       "    </tr>\n",
       "    <tr>\n",
       "      <th>7</th>\n",
       "      <td>First Record:</td>\n",
       "      <td>2nd millennium BC</td>\n",
       "    </tr>\n",
       "    <tr>\n",
       "      <th>8</th>\n",
       "      <td>Recorded By:</td>\n",
       "      <td>Egyptian astronomers</td>\n",
       "    </tr>\n",
       "  </tbody>\n",
       "</table>\n",
       "</div>"
      ],
      "text/plain": [
       "                      0                              1\n",
       "0  Equatorial Diameter:                       6,792 km\n",
       "1       Polar Diameter:                       6,752 km\n",
       "2                 Mass:  6.39 × 10^23 kg (0.11 Earths)\n",
       "3                Moons:            2 (Phobos & Deimos)\n",
       "4       Orbit Distance:       227,943,824 km (1.38 AU)\n",
       "5         Orbit Period:           687 days (1.9 years)\n",
       "6  Surface Temperature:                   -87 to -5 °C\n",
       "7         First Record:              2nd millennium BC\n",
       "8          Recorded By:           Egyptian astronomers"
      ]
     },
     "execution_count": 2,
     "metadata": {},
     "output_type": "execute_result"
    }
   ],
   "source": [
    "url = 'https://space-facts.com/mars/'\n",
    "\n",
    "mars_facts = pd.read_html(url)[0]\n",
    "\n",
    "mars_facts"
   ]
  },
  {
   "cell_type": "code",
   "execution_count": 3,
   "metadata": {
    "ExecuteTime": {
     "end_time": "2019-11-27T14:42:49.961342Z",
     "start_time": "2019-11-27T14:42:49.948378Z"
    }
   },
   "outputs": [],
   "source": [
    "# tablestring='<table><tr><td>Attribute</td><td>Value</td></tr>'\n",
    "\n",
    "# x=0\n",
    "# for rows in mars_facts.iterrows():\n",
    "#     add_to_string=f'<tr><td>{mars_facts.iloc[x,0]}</td><td>{mars_facts.iloc[x,1]}</td>,</tr>'\n",
    "#     tablestring += add_to_string\n",
    "#     x+=1\n",
    "\n",
    "tablestring=mars_facts.to_html('templates/mars_facts.html')\n",
    "\n",
    "# tablestring += '</table>'\n",
    "\n",
    "tablestring"
   ]
  },
  {
   "cell_type": "markdown",
   "metadata": {},
   "source": [
    "## Mars Hemispheres"
   ]
  },
  {
   "cell_type": "code",
   "execution_count": 22,
   "metadata": {
    "ExecuteTime": {
     "end_time": "2019-11-25T06:47:39.020549Z",
     "start_time": "2019-11-25T06:47:32.329719Z"
    }
   },
   "outputs": [
    {
     "data": {
      "text/plain": [
       "[]"
      ]
     },
     "execution_count": 22,
     "metadata": {},
     "output_type": "execute_result"
    }
   ],
   "source": [
    "url = 'https://astrogeology.usgs.gov/search/results?q=hemisphere+enhanced&k1=target&v1=Mars'\n",
    "browser.visit(url) \n",
    "\n",
    "html = browser.html\n",
    "soup = BeautifulSoup(html, 'lxml')\n",
    "\n",
    "hemisphere_list = soup.find_all('div',class_='description')\n",
    "\n",
    "link_list=[]\n",
    "title_list=[]\n",
    "\n",
    "for hemisphere in hemisphere_list:\n",
    "    title=hemisphere.a.h3.text.strip(\"Enhanced\").rstrip()\n",
    "    link=hemisphere.a.get('href').strip('/search/map')\n",
    "    url=f'https://astropedia.astrogeology.usgs.gov/download/{link}.tif/full.jpg'\n",
    "    title_list.append(title)\n",
    "    link_list.append(url)\n",
    "    \n",
    "x=0\n",
    "hemispheres_list=[]\n",
    "for titles in title_list:\n",
    "    hemisphere_dict={}\n",
    "    hemisphere_dict['title']=title_list[x]\n",
    "    hemisphere_dict['img_url']=link_list[x]\n",
    "    hemispheres_list.append(hemisphere_dict)\n",
    "    x+=1\n",
    "\n",
    "hemispheres_list\n",
    "    "
   ]
  },
  {
   "cell_type": "code",
   "execution_count": null,
   "metadata": {},
   "outputs": [],
   "source": []
  }
 ],
 "metadata": {
  "kernelspec": {
   "display_name": "Python 3",
   "language": "python",
   "name": "python3"
  },
  "language_info": {
   "codemirror_mode": {
    "name": "ipython",
    "version": 3
   },
   "file_extension": ".py",
   "mimetype": "text/x-python",
   "name": "python",
   "nbconvert_exporter": "python",
   "pygments_lexer": "ipython3",
   "version": "3.7.3"
  }
 },
 "nbformat": 4,
 "nbformat_minor": 2
}
